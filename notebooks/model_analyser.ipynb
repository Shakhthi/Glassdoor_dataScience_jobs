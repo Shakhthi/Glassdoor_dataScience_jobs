{
 "cells": [
  {
   "cell_type": "markdown",
   "id": "a69a93c2",
   "metadata": {},
   "source": [
    "# Model Analyser for DS Jobs Project\n",
    "\n",
    "This notebook evaluates multiple regression models, selects the best one with R² > 0.7, and checks for both overfitting and underfitting. Overfitting is flagged if the train-test R² gap is too large; underfitting is flagged if both scores are low."
   ]
  },
  {
   "cell_type": "code",
   "execution_count": 9,
   "id": "1d7f894e",
   "metadata": {},
   "outputs": [],
   "source": [
    "# Imports\n",
    "import numpy as np\n",
    "import pandas as pd\n",
    "from sklearn.model_selection import train_test_split, GridSearchCV\n",
    "from sklearn.linear_model import LinearRegression, Lasso, Ridge\n",
    "from sklearn.tree import DecisionTreeRegressor\n",
    "from sklearn.neighbors import KNeighborsRegressor\n",
    "from sklearn.ensemble import RandomForestRegressor, GradientBoostingRegressor\n",
    "from sklearn.svm import SVR\n",
    "from sklearn.metrics import r2_score, mean_absolute_error, mean_squared_error\n",
    "import matplotlib.pyplot as plt\n",
    "import seaborn as sns\n",
    "import warnings\n",
    "warnings.filterwarnings('ignore')"
   ]
  },
  {
   "cell_type": "code",
   "execution_count": 11,
   "id": "ac0d746e",
   "metadata": {},
   "outputs": [],
   "source": [
    "from sklearn.pipeline import Pipeline\n",
    "from sklearn.preprocessing import StandardScaler, OneHotEncoder\n",
    "from sklearn.compose import ColumnTransformer"
   ]
  },
  {
   "cell_type": "code",
   "execution_count": 12,
   "id": "a33fbf02",
   "metadata": {},
   "outputs": [],
   "source": [
    "# Load your data\n",
    "# Update the path and target column as needed\n",
    "train_data = pd.read_csv(r'..\\Artifacts\\2025-07-01-10-46-39\\data_validation\\valid_data\\train.csv')\n",
    "test_data = pd.read_csv(r'..\\Artifacts\\2025-07-01-10-46-39\\data_validation\\valid_data\\test.csv')"
   ]
  },
  {
   "cell_type": "code",
   "execution_count": 13,
   "id": "da75df38",
   "metadata": {},
   "outputs": [],
   "source": [
    "data = pd.concat([train_data, test_data], ignore_index=True)"
   ]
  },
  {
   "cell_type": "code",
   "execution_count": 14,
   "id": "9b8fbebd",
   "metadata": {},
   "outputs": [
    {
     "data": {
      "application/vnd.microsoft.datawrangler.viewer.v0+json": {
       "columns": [
        {
         "name": "index",
         "rawType": "int64",
         "type": "integer"
        },
        {
         "name": "company",
         "rawType": "object",
         "type": "string"
        },
        {
         "name": "job_title",
         "rawType": "object",
         "type": "string"
        },
        {
         "name": "company_rating",
         "rawType": "float64",
         "type": "float"
        },
        {
         "name": "job_description",
         "rawType": "object",
         "type": "string"
        },
        {
         "name": "location",
         "rawType": "object",
         "type": "string"
        },
        {
         "name": "salary_avg_estimate",
         "rawType": "float64",
         "type": "float"
        },
        {
         "name": "salary_estimate_payperiod",
         "rawType": "object",
         "type": "string"
        },
        {
         "name": "company_size",
         "rawType": "object",
         "type": "string"
        },
        {
         "name": "company_founded",
         "rawType": "int64",
         "type": "integer"
        },
        {
         "name": "employment_type",
         "rawType": "object",
         "type": "string"
        },
        {
         "name": "industry",
         "rawType": "object",
         "type": "string"
        },
        {
         "name": "sector",
         "rawType": "object",
         "type": "string"
        },
        {
         "name": "revenue",
         "rawType": "object",
         "type": "string"
        },
        {
         "name": "career_opportunities_rating",
         "rawType": "float64",
         "type": "float"
        },
        {
         "name": "comp_and_benefits_rating",
         "rawType": "float64",
         "type": "float"
        },
        {
         "name": "culture_and_values_rating",
         "rawType": "float64",
         "type": "float"
        },
        {
         "name": "senior_management_rating",
         "rawType": "float64",
         "type": "float"
        },
        {
         "name": "work_life_balance_rating",
         "rawType": "float64",
         "type": "float"
        }
       ],
       "ref": "b6bb852a-2fcd-4717-9706-4ebb4b18162c",
       "rows": [
        [
         "0",
         "Medpace, Inc.",
         "Data Coordinator - Core Laboratory",
         "3.4",
         "Job Summary :\nOur corporate activities are growing rapidly, and we are currently seeking a full-time, office-based Data Coordinator to join our Core Laboratory/Imaging Services team in Mumbai, India. This position will work on a team to accomplish tasks and projects that are instrumental to the company’s success. If you want an exciting career where you use your previous expertise and can develop and grow your career even further, then this is the opportunity for you.\nResponsibilities :\nAssist in the preparation of Core Lab Data Management documents;\nPerform validation on data transfers and edit programs;\nMaintain data cleanup via edits, data review and data changes; and\nSend data transfers externally.\nQualifications :\nBachelor's degree in life science/ pharmacy/ health related field with strong attention to detail and working knowledge of Excel and Word; and\n1-2 years of experience in a pharmaceutical or CRO setting preferred.\nMedpace Overview :\nMedpace is a full-service clinical contract research organization (CRO). We provide Phase I-IV clinical development services to the biotechnology, pharmaceutical and medical device industries. Our mission is to accelerate the global development of safe and effective medical therapeutics through its scientific and disciplined approach. We leverage local regulatory and therapeutic expertise across all major areas including oncology, cardiology, metabolic disease, endocrinology, central nervous system, anti-viral and anti-infective. Headquartered in Cincinnati, Ohio, employing more than 5,000 people across 40+ countries.\nWhy Medpace? :\nPeople. Purpose. Passion. Make a Difference Tomorrow. Join Us Today.\n\nThe work we’ve done over the past 30+ years has positively impacted the lives of countless patients and families who face hundreds of diseases across all key therapeutic areas. The work we do today will improve the lives of people living with illness and disease in the future.\n\nMedpace Perks\nHybrid work-from-home options (dependent upon position and level)\nCompetitive PTO packages\nCompany-sponsored employee appreciation events\nEmployee health and wellness initiatives\nFlexible work schedule\nCompetitive compensation and benefits package\nStructured career paths with opportunities for professional growth\nAwards\nRecognized by Forbes as one of America's Best Mid-size Companies in 2021, 2022 and 2023\nContinually recognized with CRO Leadership Awards from Life Science Leader magazine based on expertise, quality, capabilities, reliability, and compatibility\n\nWhat to Expect Next\nA Medpace team member will review your qualifications and, if interested, you will be contacted with details for next steps.\n\nEO/AA Employer M/F/Disability/Vets",
         "Thāne",
         "589237.0",
         "/yr (est.)",
         "5001 to 10000 Employees",
         "1992",
         "Company - Public",
         "Biotech & Pharmaceuticals",
         "Pharmaceutical & Biotechnology",
         "$2 to $5 billion (USD)",
         "3.3",
         "3.0",
         "3.2",
         "3.0",
         "3.2"
        ],
        [
         "1",
         "Nissan",
         "Data Engineer I",
         "3.9",
         "Key Responsibilities:\n\nEnsure that the guidelines laid out by the architect is adhered to. Ensure adherence to data quality standards and ensure delivery with highest possible quality without compromising on the timelines. Writing scalable, maintainable and testable code Participating in code reviews and design discussions. Understand and follow best practices around coding, design, quality, performance in your team. Experiment with new & relevant technologies and tools\n\nPreferred Competencies:\nGood knowledge and experience in data processing tools(ETL), data bases, cloud based data services and platforms.\nGood experience in developing ETLs or similar data solutions in the Cloud to be deployed in AWS\nKnowledge and experience in designing and implementing data solutions.\nStrong analytical and problem-solving skills.\nKnowledge about distributed computing paradigm.\nKnowledge about open-source data processing frameworks and AWS data services.\nUnderstanding about Relational databases, ETL design patterns and development.\nData modelling - Understanding about Dimensional & transactional modelling using RDBMS, NO-SQL and Big Data technologies.\nExposure to cloud Data warehouse like - Snowflake and or AWS Redshift preferred.\nDemonstrate strong analytical and problem-solving capability.\nGood understanding of the data eco-system, both current and future data trends.\nShould be a go to person for the above technologies\n\nExperience & Expertise:\n0-2 years of total work experience.\nB Tech or M Tech in Computer Science, Information Systems or related technology\nQuick & Excellent Problem-solving skills for complex & large-scale distributed problems.\nUnderstanding about Relational databases, ETL design patterns and ETL development.\nSolid coding skills.\nKnowledge on software engineering best practices, data design patterns and standards.\nKnowledge, understanding & experience of working with data processing/ingestions tools and cloud data services.\nKnowledge on least one of the global cloud platforms AWS/Azure/Google Cloud.\n\nYou'd Make an Ideal Candidate if You:\nGet genuinely excited about leveraging technology to find simple solutions to really hard, complex problems\nEnjoy working with, and leading a passionate, multi-disciplinary team in an agile, fast-paced environment\nAre data-driven and analytical in your approach, and are able to effectively keep the big picture in perspective while still being extremely detail-oriented when it comes to your product\nHave had your share of failures and take pride in sharing the lessons you've learned from those experiences\n\nDrive your career forward and join the company leading the technology and business evolution in the automotive industry.\nTrivandrum Kerala India",
         "Thiruvananthapuram",
         "443415.0",
         "/yr (est.)",
         "10000+ Employees",
         "1933",
         "Company - Public",
         "Transportation Equipment Manufacturing",
         "Manufacturing",
         "$2 to $5 billion (USD)",
         "3.6",
         "3.7",
         "3.7",
         "3.5",
         "3.4"
        ],
        [
         "2",
         "ZF",
         "Senior Data scientist",
         "3.9",
         "What's Next? Join ZF!\nZF is a global technology company supplying systems for passenger cars, commercial vehicles and industrial technology, enabling the next generation of mobility.\nZF allows vehicles to see, think and act. In the four technology domains of Vehicle Motion Control, Integrated Safety, Automated Driving, and Electric Mobility, ZF offers comprehensive product and software solutions for established vehicle manufacturers and newly emerging transport and mobility service providers. ZF electrifies a wide range of vehicle types. With its products, the company contributes to reducing emissions, protecting the climate and enhancing safe mobility.\nSenior Data scientist\nCountry/Region: IN\nLocation: Chennai, TN, IN, 600116\nReq ID 35509 SDC Chennai, India\n\nYour Tasks:\nLead technology innovation projects in the field of advanced analytics, including predictive maintenance and machine learning, for commercial vehicle, transportation & new technology fields applications.\nInvent and develop new end-to-end system that gather relevant data on embedded systems with resource constraints and fluctuating network access, use cloud computing to create prediction models digital twins.\nIdentify and propose data driven insights from automotive data which can help business to add value to ZF’s customers for existing products. Able to see value of the data driven insights for end customers and influence business teams.\nWork together with the global ZF innovation team to support each phase of development, user validation process and propose solutions (products and/or services) that might lie between organizational borders. While doing, co-ordinate and execute PoC (Proof of Concept) activities for collaboration between departments, start-ups.\nWork with business and technical leadership to set strategic priorities and scope. Maintain regular communication with internal stakeholders to understand a (‘live’) technology, market needs & interests mandate.\nAct as technical ‘sparring partner’ & advisor to your internal network: team leader, innovation director, technology and innovation officer, Global Innovation Domain Managers, chief engineers & business hub leaders and internal data scientists and experts. Cultivate an external network of accelerator programs, research institutes and other strategic partners.\n\n\nYour Profile:\nBachelor’s degree or above majored in mechanical, electronic, automotive, aerospace, information/computer science, or similar.\nMinimum experience of 10+ years in either automotive or embedded domain.\n5+ years of experience in data engineering and advanced analytics (including machine learning as well as predictive maintenance)\nExperience of ML/AI applications on embedded platforms and knowledge on automotive data, networks, sensors would be an added advantage.\nKnowledge of Design Thinking, Design of Experiments & Proactive Problem-Solving Methodology considered beneficial.\nProven team player with international mindset that also has experience building, forming and leading projects teams. Highly self-motivated and self-managed individual, not afraid to do the heavy lifting.\n\nBe part of our ZF team as Senior Data scientist and apply now!\nContact\nChella Parvathi Subramanian\n\nWhat does DEI (Diversity, Equity, Inclusion) mean for ZF as a company?\nAt ZF, we continuously strive to build and maintain a culture where inclusiveness is lived and diversity is valued. We actively seek ways to remove barriers so that all our employees can rise to their full potential. We aim to embed this vision in our legacy through how we operate and build our products as we shape the future of mobility.\nFind out how we work at ZF:\n\n\nJob Segment: Research Scientist, R&D Engineer, R&D, Cloud, Senior Scientist, Science, Engineering, Research, Technology",
         "Chennai",
         "360000.0",
         "/yr (est.)",
         "10000+ Employees",
         "1915",
         "Company - Public",
         "Transportation Equipment Manufacturing",
         "Manufacturing",
         "$10+ billion (USD)",
         "3.6",
         "3.7",
         "3.7",
         "3.3",
         "3.8"
        ],
        [
         "3",
         "One Sigma Technologies",
         "Data Analyst Fraud",
         "3.7",
         "Bengaluru\nEngineering /\nFull-Time\n/ On-Site\nAbout Simpl\n\nSimpl is India’s leading checkout network meant to make payments invisible and money intelligent. It is committed to the simplification and democratization of digital transformation in the payments space. As India’s foremost consumer experience platform, Simpl is on a mission to empower merchants to build trusted relationships with customers, one transaction at a time. With more than 20,000+ available merchants and millions of trusted users pan-India, Simpl envisions creating an inclusive digital payment experience for India that empowers and fosters trust between merchants and their customers. Simpl provides a full-stack solution for e-commerce conversion. It enables merchants to give customers 1-click checkout, buyer protection, and a pay-later facility to allow them to feel safe and trusted when shopping online. Through Simpl, merchants can provide consumers with an easy, secure, and intuitive user experience\n\nAbout Role:\n\nAs Risk Analyst, you will be passionate about quantitative analytics as well as advanced analytical tools/techniques that help enhance the risk assessment across stages of product. Majorly, your core responsibility is to support the functions which reduce the risk undertaken. You will achieve the same through better - Fraud detection or Underwriting or Credit line management. You will have to collaborate with various PODs, inclusive of Fraud, underwriting Product teams to create analytical and data-science framework to dissect business adoption and revenue. You will take initiatives to build hypotheses around risk problem statements and estimate scope and impact of solutions.\n\nResponsibilities:\nAnalyze data to better understand potential risks, concerns and outcomes of analytically driven decisions\nBuild ML/Heuristic models in assessing and defining risk across customer interactions with product\nAggregate data from multiple sources to provide a comprehensive assessment of risk associated with the customers through out their transaction life cycle\nMonitor internal and external data points that may affect the risk level of a decision especially when testing or launching the features of the product\nConduct research into potential acquisition customers and understand the risks of accepting each\nWork closely with Fraud/Risk/Underwriting teams & support them analytically to come up with effective ML techniques that can help identify/assess risk\nCreate reports, summaries, presentations and process documents to display results\nCollaborate with other team members to effectively analyze and present data to the leaders/other stakeholders involved in the project\nDevelop systems and processes for gathering and storing risk data for future analytic projects\n\nPreferred Qualifications & Experience:\nBachelors in Engineering, Mathematics, Economics from any of the top tier colleges\nOne to five years of experience as an analyst in risk-centered companies (Risk /Fraud/Underwriting roles)\nStrong skills across programming languages such as Python/R, SQL\nExposure to Machine Learning models/techniques and appropriate implementation\nStrong written, oral, and interpersonal communication skills\nFlexible and adaptable in regards to learning and understanding new technologies\nAbility to work both independently as well as in a team-oriented, collaborative environment\nProficiency in Microsoft Excel, Qlik, Visio, Power BI and other analysis programs would be an add on\nAbility to manage multiple projects and programs at the same time to complete work\nQuantitative and analytical skills with a demonstrated ability to understand new analytical concept",
         "Bengaluru",
         "777892.0",
         "/yr (est.)",
         "501 to 1000 Employees",
         "2015",
         "Company - Private",
         "Internet & Web Services",
         "Information Technology",
         "Unknown / Non-Applicable",
         "3.7",
         "3.9",
         "3.7",
         "3.6",
         "3.6"
        ],
        [
         "4",
         "Infosys",
         "Data Privacy_Consulting",
         "3.8",
         "A day in the life of an Infoscion • As part of the Infosys delivery team, your primary role would be to interface with the client for quality assurance, issue resolution and ensuring high customer satisfaction. • You will understand requirements, create and review designs, validate the architecture and ensure high levels of service offerings to clients in the technology domain. • You will participate in project estimation, provide inputs for solution delivery, conduct technical risk planning, perform code reviews and unit test plan reviews. • You will lead and guide your teams towards developing optimized high quality code deliverables, continual knowledge management and adherence to the organizational guidelines and processes. • You would be a key contributor to building efficient programs/ systems and if you think you fit right in to help our clients navigate their next in their digital transformation journey, this is the place for you! If you think you fit right in to help our clients navigate their next in their digital transformation journey, this is the place for you!\nPrimary skills: Informatica MDM/ PIM/ P360/ IDQ/ S360 STIBO MDM Reltio MDM IBM MDM Other (IBM PIM, STIBO PIM) Semarchy MDM\nKnowledge of more than one technology • Basics of Architecture and Design fundamentals • Knowledge of Testing tools • Knowledge of agile methodologies • Understanding of Project life cycle activities on development and maintenance projects • Understanding of one or more Estimation methodologies, Knowledge of Quality processes • Basics of business domain to understand the business requirements • Analytical abilities, Strong Technical Skills, Good communication skills • Good understanding of the technology and domain • Ability to demonstrate a sound understanding of software quality assurance principles, SOLID design principles and modelling methods • Awareness of latest technologies and trends • Excellent problem solving, analytical and debugging skills\nData Privacy->Data Privacy (General Data Protection Regulation/ Certified Information Privacy Technologist/ DSCI Certified Privacy Lead Assessor/ GDPR/ CIPT/ CIPP/ DCPLA)",
         "Bengaluru",
         "720103.0",
         "/yr (est.)",
         "10000+ Employees",
         "1981",
         "Company - Public",
         "Information Technology Support Services",
         "Information Technology",
         "$10+ billion (USD)",
         "3.8",
         "3.0",
         "4.0",
         "3.5",
         "3.7"
        ]
       ],
       "shape": {
        "columns": 18,
        "rows": 5
       }
      },
      "text/html": [
       "<div>\n",
       "<style scoped>\n",
       "    .dataframe tbody tr th:only-of-type {\n",
       "        vertical-align: middle;\n",
       "    }\n",
       "\n",
       "    .dataframe tbody tr th {\n",
       "        vertical-align: top;\n",
       "    }\n",
       "\n",
       "    .dataframe thead th {\n",
       "        text-align: right;\n",
       "    }\n",
       "</style>\n",
       "<table border=\"1\" class=\"dataframe\">\n",
       "  <thead>\n",
       "    <tr style=\"text-align: right;\">\n",
       "      <th></th>\n",
       "      <th>company</th>\n",
       "      <th>job_title</th>\n",
       "      <th>company_rating</th>\n",
       "      <th>job_description</th>\n",
       "      <th>location</th>\n",
       "      <th>salary_avg_estimate</th>\n",
       "      <th>salary_estimate_payperiod</th>\n",
       "      <th>company_size</th>\n",
       "      <th>company_founded</th>\n",
       "      <th>employment_type</th>\n",
       "      <th>industry</th>\n",
       "      <th>sector</th>\n",
       "      <th>revenue</th>\n",
       "      <th>career_opportunities_rating</th>\n",
       "      <th>comp_and_benefits_rating</th>\n",
       "      <th>culture_and_values_rating</th>\n",
       "      <th>senior_management_rating</th>\n",
       "      <th>work_life_balance_rating</th>\n",
       "    </tr>\n",
       "  </thead>\n",
       "  <tbody>\n",
       "    <tr>\n",
       "      <th>0</th>\n",
       "      <td>Medpace, Inc.</td>\n",
       "      <td>Data Coordinator - Core Laboratory</td>\n",
       "      <td>3.4</td>\n",
       "      <td>Job Summary :\\nOur corporate activities are gr...</td>\n",
       "      <td>Thāne</td>\n",
       "      <td>589237.0</td>\n",
       "      <td>/yr (est.)</td>\n",
       "      <td>5001 to 10000 Employees</td>\n",
       "      <td>1992</td>\n",
       "      <td>Company - Public</td>\n",
       "      <td>Biotech &amp; Pharmaceuticals</td>\n",
       "      <td>Pharmaceutical &amp; Biotechnology</td>\n",
       "      <td>$2 to $5 billion (USD)</td>\n",
       "      <td>3.3</td>\n",
       "      <td>3.0</td>\n",
       "      <td>3.2</td>\n",
       "      <td>3.0</td>\n",
       "      <td>3.2</td>\n",
       "    </tr>\n",
       "    <tr>\n",
       "      <th>1</th>\n",
       "      <td>Nissan</td>\n",
       "      <td>Data Engineer I</td>\n",
       "      <td>3.9</td>\n",
       "      <td>Key Responsibilities:\\n\\nEnsure that the guide...</td>\n",
       "      <td>Thiruvananthapuram</td>\n",
       "      <td>443415.0</td>\n",
       "      <td>/yr (est.)</td>\n",
       "      <td>10000+ Employees</td>\n",
       "      <td>1933</td>\n",
       "      <td>Company - Public</td>\n",
       "      <td>Transportation Equipment Manufacturing</td>\n",
       "      <td>Manufacturing</td>\n",
       "      <td>$2 to $5 billion (USD)</td>\n",
       "      <td>3.6</td>\n",
       "      <td>3.7</td>\n",
       "      <td>3.7</td>\n",
       "      <td>3.5</td>\n",
       "      <td>3.4</td>\n",
       "    </tr>\n",
       "    <tr>\n",
       "      <th>2</th>\n",
       "      <td>ZF</td>\n",
       "      <td>Senior Data scientist</td>\n",
       "      <td>3.9</td>\n",
       "      <td>What's Next? Join ZF!\\nZF is a global technolo...</td>\n",
       "      <td>Chennai</td>\n",
       "      <td>360000.0</td>\n",
       "      <td>/yr (est.)</td>\n",
       "      <td>10000+ Employees</td>\n",
       "      <td>1915</td>\n",
       "      <td>Company - Public</td>\n",
       "      <td>Transportation Equipment Manufacturing</td>\n",
       "      <td>Manufacturing</td>\n",
       "      <td>$10+ billion (USD)</td>\n",
       "      <td>3.6</td>\n",
       "      <td>3.7</td>\n",
       "      <td>3.7</td>\n",
       "      <td>3.3</td>\n",
       "      <td>3.8</td>\n",
       "    </tr>\n",
       "    <tr>\n",
       "      <th>3</th>\n",
       "      <td>One Sigma Technologies</td>\n",
       "      <td>Data Analyst Fraud</td>\n",
       "      <td>3.7</td>\n",
       "      <td>Bengaluru\\nEngineering /\\nFull-Time\\n/ On-Site...</td>\n",
       "      <td>Bengaluru</td>\n",
       "      <td>777892.0</td>\n",
       "      <td>/yr (est.)</td>\n",
       "      <td>501 to 1000 Employees</td>\n",
       "      <td>2015</td>\n",
       "      <td>Company - Private</td>\n",
       "      <td>Internet &amp; Web Services</td>\n",
       "      <td>Information Technology</td>\n",
       "      <td>Unknown / Non-Applicable</td>\n",
       "      <td>3.7</td>\n",
       "      <td>3.9</td>\n",
       "      <td>3.7</td>\n",
       "      <td>3.6</td>\n",
       "      <td>3.6</td>\n",
       "    </tr>\n",
       "    <tr>\n",
       "      <th>4</th>\n",
       "      <td>Infosys</td>\n",
       "      <td>Data Privacy_Consulting</td>\n",
       "      <td>3.8</td>\n",
       "      <td>A day in the life of an Infoscion • As part of...</td>\n",
       "      <td>Bengaluru</td>\n",
       "      <td>720103.0</td>\n",
       "      <td>/yr (est.)</td>\n",
       "      <td>10000+ Employees</td>\n",
       "      <td>1981</td>\n",
       "      <td>Company - Public</td>\n",
       "      <td>Information Technology Support Services</td>\n",
       "      <td>Information Technology</td>\n",
       "      <td>$10+ billion (USD)</td>\n",
       "      <td>3.8</td>\n",
       "      <td>3.0</td>\n",
       "      <td>4.0</td>\n",
       "      <td>3.5</td>\n",
       "      <td>3.7</td>\n",
       "    </tr>\n",
       "  </tbody>\n",
       "</table>\n",
       "</div>"
      ],
      "text/plain": [
       "                  company                           job_title  company_rating  \\\n",
       "0           Medpace, Inc.  Data Coordinator - Core Laboratory             3.4   \n",
       "1                  Nissan                     Data Engineer I             3.9   \n",
       "2                      ZF               Senior Data scientist             3.9   \n",
       "3  One Sigma Technologies                  Data Analyst Fraud             3.7   \n",
       "4                 Infosys             Data Privacy_Consulting             3.8   \n",
       "\n",
       "                                     job_description            location  \\\n",
       "0  Job Summary :\\nOur corporate activities are gr...               Thāne   \n",
       "1  Key Responsibilities:\\n\\nEnsure that the guide...  Thiruvananthapuram   \n",
       "2  What's Next? Join ZF!\\nZF is a global technolo...             Chennai   \n",
       "3  Bengaluru\\nEngineering /\\nFull-Time\\n/ On-Site...           Bengaluru   \n",
       "4  A day in the life of an Infoscion • As part of...           Bengaluru   \n",
       "\n",
       "   salary_avg_estimate salary_estimate_payperiod             company_size  \\\n",
       "0             589237.0                /yr (est.)  5001 to 10000 Employees   \n",
       "1             443415.0                /yr (est.)         10000+ Employees   \n",
       "2             360000.0                /yr (est.)         10000+ Employees   \n",
       "3             777892.0                /yr (est.)    501 to 1000 Employees   \n",
       "4             720103.0                /yr (est.)         10000+ Employees   \n",
       "\n",
       "   company_founded    employment_type  \\\n",
       "0             1992   Company - Public   \n",
       "1             1933   Company - Public   \n",
       "2             1915   Company - Public   \n",
       "3             2015  Company - Private   \n",
       "4             1981   Company - Public   \n",
       "\n",
       "                                  industry                          sector  \\\n",
       "0                Biotech & Pharmaceuticals  Pharmaceutical & Biotechnology   \n",
       "1   Transportation Equipment Manufacturing                   Manufacturing   \n",
       "2   Transportation Equipment Manufacturing                   Manufacturing   \n",
       "3                  Internet & Web Services          Information Technology   \n",
       "4  Information Technology Support Services          Information Technology   \n",
       "\n",
       "                    revenue  career_opportunities_rating  \\\n",
       "0    $2 to $5 billion (USD)                          3.3   \n",
       "1    $2 to $5 billion (USD)                          3.6   \n",
       "2        $10+ billion (USD)                          3.6   \n",
       "3  Unknown / Non-Applicable                          3.7   \n",
       "4        $10+ billion (USD)                          3.8   \n",
       "\n",
       "   comp_and_benefits_rating  culture_and_values_rating  \\\n",
       "0                       3.0                        3.2   \n",
       "1                       3.7                        3.7   \n",
       "2                       3.7                        3.7   \n",
       "3                       3.9                        3.7   \n",
       "4                       3.0                        4.0   \n",
       "\n",
       "   senior_management_rating  work_life_balance_rating  \n",
       "0                       3.0                       3.2  \n",
       "1                       3.5                       3.4  \n",
       "2                       3.3                       3.8  \n",
       "3                       3.6                       3.6  \n",
       "4                       3.5                       3.7  "
      ]
     },
     "execution_count": 14,
     "metadata": {},
     "output_type": "execute_result"
    }
   ],
   "source": [
    "data.head()"
   ]
  },
  {
   "cell_type": "code",
   "execution_count": 15,
   "id": "d7f5f90b",
   "metadata": {},
   "outputs": [
    {
     "name": "stdout",
     "output_type": "stream",
     "text": [
      "<class 'pandas.core.frame.DataFrame'>\n",
      "RangeIndex: 558 entries, 0 to 557\n",
      "Data columns (total 18 columns):\n",
      " #   Column                       Non-Null Count  Dtype  \n",
      "---  ------                       --------------  -----  \n",
      " 0   company                      558 non-null    object \n",
      " 1   job_title                    558 non-null    object \n",
      " 2   company_rating               558 non-null    float64\n",
      " 3   job_description              558 non-null    object \n",
      " 4   location                     558 non-null    object \n",
      " 5   salary_avg_estimate          558 non-null    float64\n",
      " 6   salary_estimate_payperiod    558 non-null    object \n",
      " 7   company_size                 558 non-null    object \n",
      " 8   company_founded              558 non-null    int64  \n",
      " 9   employment_type              558 non-null    object \n",
      " 10  industry                     558 non-null    object \n",
      " 11  sector                       558 non-null    object \n",
      " 12  revenue                      558 non-null    object \n",
      " 13  career_opportunities_rating  558 non-null    float64\n",
      " 14  comp_and_benefits_rating     558 non-null    float64\n",
      " 15  culture_and_values_rating    558 non-null    float64\n",
      " 16  senior_management_rating     558 non-null    float64\n",
      " 17  work_life_balance_rating     558 non-null    float64\n",
      "dtypes: float64(7), int64(1), object(10)\n",
      "memory usage: 78.6+ KB\n"
     ]
    }
   ],
   "source": [
    "data.info()"
   ]
  },
  {
   "cell_type": "code",
   "execution_count": 25,
   "id": "ca462823",
   "metadata": {},
   "outputs": [],
   "source": [
    "# Split data\n",
    "x_train, x_test, y_train, y_test = train_test_split(\n",
    "\tdata.iloc[:, :-1], data.iloc[:, -1], test_size=0.2, random_state=42\n",
    ")"
   ]
  },
  {
   "cell_type": "code",
   "execution_count": 26,
   "id": "0d1f45ae",
   "metadata": {},
   "outputs": [],
   "source": [
    "num_cols = x_train.select_dtypes(include=['int64', 'float64']).columns.tolist()\n",
    "cat_cols = x_train.select_dtypes(include=['object']).columns.tolist()"
   ]
  },
  {
   "cell_type": "code",
   "execution_count": 27,
   "id": "88c5fad8",
   "metadata": {},
   "outputs": [],
   "source": [
    "num_pipeline = Pipeline([\n",
    "                ('scaler', StandardScaler())\n",
    "            ])\n",
    "\n",
    "cat_pipeline = Pipeline([\n",
    "                ('onehot', OneHotEncoder(handle_unknown='ignore', sparse_output=False))\n",
    "            ])\n",
    "\n",
    "preprocessor = ColumnTransformer([\n",
    "                ('num', num_pipeline, num_cols),\n",
    "                ('cat', cat_pipeline, cat_cols)\n",
    "            ]).set_output(transform='pandas')"
   ]
  },
  {
   "cell_type": "code",
   "execution_count": 28,
   "id": "2ebd3fc0",
   "metadata": {},
   "outputs": [],
   "source": [
    "# Define models and parameter grids\n",
    "models = {\n",
    "    'LinearRegression': (LinearRegression(), {}),\n",
    "    'Lasso': (Lasso(), {'alpha': [0.01, 0.1, 1, 10]}),\n",
    "    'Ridge': (Ridge(), {'alpha': [0.01, 0.1, 1, 10]}),\n",
    "    'DecisionTreeRegressor': (DecisionTreeRegressor(), {'max_depth': [3, 5, 7, None]}),\n",
    "    'KNeighborsRegressor': (KNeighborsRegressor(), {'n_neighbors': [3, 5, 7]}),\n",
    "    'RandomForestRegressor': (RandomForestRegressor(random_state=42), {'n_estimators': [50, 100], 'max_depth': [5, 10, None]}),\n",
    "    'GradientBoostingRegressor': (GradientBoostingRegressor(random_state=42), {'n_estimators': [50, 100], 'learning_rate': [0.01, 0.1]}),\n",
    "    'SVR': (SVR(), {'C': [0.1, 1, 10]})\n",
    "}"
   ]
  },
  {
   "cell_type": "code",
   "execution_count": 31,
   "id": "be285dd1",
   "metadata": {},
   "outputs": [],
   "source": [
    "# Evaluate models with preprocessing pipeline\n",
    "results = []\n",
    "for name, (model, params) in models.items():\n",
    "    pipe = Pipeline([('preprocessor', preprocessor), ('reg', model)])\n",
    "    if params:\n",
    "        # Adjust parameter grid for pipeline\n",
    "        param_grid = {f'reg__{k}': v for k, v in params.items()}\n",
    "        grid = GridSearchCV(pipe, param_grid, cv=5, scoring='r2', n_jobs=-1)\n",
    "        grid.fit(x_train, y_train)\n",
    "        best_model = grid.best_estimator_\n",
    "        best_params = grid.best_params_\n",
    "    else:\n",
    "        best_model = pipe.fit(x_train, y_train)\n",
    "        best_params = None\n",
    "    y_train_pred = best_model.predict(x_train)\n",
    "    y_test_pred = best_model.predict(x_test)\n",
    "    train_r2 = r2_score(y_train, y_train_pred)\n",
    "    test_r2 = r2_score(y_test, y_test_pred)\n",
    "    mae = mean_absolute_error(y_test, y_test_pred)\n",
    "    mse = mean_squared_error(y_test, y_test_pred)\n",
    "    overfit_gap = train_r2 - test_r2\n",
    "    underfit = train_r2 < 0.7 and test_r2 < 0.7\n",
    "    results.append({\n",
    "        'Model': name,\n",
    "        'Train R2': train_r2,\n",
    "        'Test R2': test_r2,\n",
    "        'Overfit Gap': overfit_gap,\n",
    "        'MAE': mae,\n",
    "        'MSE': mse,\n",
    "        'Best Params': best_params,\n",
    "        'Underfit': underfit\n",
    "    })"
   ]
  },
  {
   "cell_type": "code",
   "execution_count": 32,
   "id": "cd54b39e",
   "metadata": {},
   "outputs": [
    {
     "data": {
      "application/vnd.microsoft.datawrangler.viewer.v0+json": {
       "columns": [
        {
         "name": "index",
         "rawType": "int64",
         "type": "integer"
        },
        {
         "name": "Model",
         "rawType": "object",
         "type": "string"
        },
        {
         "name": "Train R2",
         "rawType": "float64",
         "type": "float"
        },
        {
         "name": "Test R2",
         "rawType": "float64",
         "type": "float"
        },
        {
         "name": "Overfit Gap",
         "rawType": "float64",
         "type": "float"
        },
        {
         "name": "MAE",
         "rawType": "float64",
         "type": "float"
        },
        {
         "name": "MSE",
         "rawType": "float64",
         "type": "float"
        },
        {
         "name": "Best Params",
         "rawType": "object",
         "type": "unknown"
        },
        {
         "name": "Underfit",
         "rawType": "bool",
         "type": "boolean"
        }
       ],
       "ref": "eda6c72a-8bbb-429c-9757-c5d0a4126e82",
       "rows": [
        [
         "0",
         "LinearRegression",
         "1.0",
         "0.7730548050272392",
         "0.22694519497276078",
         "0.15196054278915758",
         "0.051518404635880415",
         null,
         "False"
        ],
        [
         "2",
         "Ridge",
         "0.999997750498007",
         "0.7727449893846925",
         "0.2272527611133145",
         "0.15216356739585626",
         "0.05158873530596648",
         "{'reg__alpha': 0.01}",
         "False"
        ],
        [
         "1",
         "Lasso",
         "0.7411748893555596",
         "0.7141335902599459",
         "0.027041299095613702",
         "0.17345180959373344",
         "0.06489399949869899",
         "{'reg__alpha': 0.01}",
         "False"
        ],
        [
         "6",
         "GradientBoostingRegressor",
         "0.9157569423163123",
         "0.7141110270827441",
         "0.20164591523356823",
         "0.17399505691665165",
         "0.06489912152339354",
         "{'reg__learning_rate': 0.1, 'reg__n_estimators': 100}",
         "False"
        ],
        [
         "5",
         "RandomForestRegressor",
         "0.9696011963129764",
         "0.7030948865531905",
         "0.26650630975978584",
         "0.16016071428571474",
         "0.067399875",
         "{'reg__max_depth': None, 'reg__n_estimators': 100}",
         "False"
        ],
        [
         "7",
         "SVR",
         "0.9589800328283793",
         "0.619609103904762",
         "0.3393709289236173",
         "0.17907025103940044",
         "0.08635182651561214",
         "{'reg__C': 1}",
         "False"
        ],
        [
         "4",
         "KNeighborsRegressor",
         "0.8066530330580617",
         "0.6189878458626419",
         "0.1876651871954198",
         "0.20428571428571432",
         "0.08649285714285712",
         "{'reg__n_neighbors': 5}",
         "False"
        ],
        [
         "3",
         "DecisionTreeRegressor",
         "0.836545808264183",
         "0.5585933121723976",
         "0.2779524960917854",
         "0.22417525407153155",
         "0.100202907381298",
         "{'reg__max_depth': 5}",
         "False"
        ]
       ],
       "shape": {
        "columns": 8,
        "rows": 8
       }
      },
      "text/html": [
       "<div>\n",
       "<style scoped>\n",
       "    .dataframe tbody tr th:only-of-type {\n",
       "        vertical-align: middle;\n",
       "    }\n",
       "\n",
       "    .dataframe tbody tr th {\n",
       "        vertical-align: top;\n",
       "    }\n",
       "\n",
       "    .dataframe thead th {\n",
       "        text-align: right;\n",
       "    }\n",
       "</style>\n",
       "<table border=\"1\" class=\"dataframe\">\n",
       "  <thead>\n",
       "    <tr style=\"text-align: right;\">\n",
       "      <th></th>\n",
       "      <th>Model</th>\n",
       "      <th>Train R2</th>\n",
       "      <th>Test R2</th>\n",
       "      <th>Overfit Gap</th>\n",
       "      <th>MAE</th>\n",
       "      <th>MSE</th>\n",
       "      <th>Best Params</th>\n",
       "      <th>Underfit</th>\n",
       "    </tr>\n",
       "  </thead>\n",
       "  <tbody>\n",
       "    <tr>\n",
       "      <th>0</th>\n",
       "      <td>LinearRegression</td>\n",
       "      <td>1.000000</td>\n",
       "      <td>0.773055</td>\n",
       "      <td>0.226945</td>\n",
       "      <td>0.151961</td>\n",
       "      <td>0.051518</td>\n",
       "      <td>None</td>\n",
       "      <td>False</td>\n",
       "    </tr>\n",
       "    <tr>\n",
       "      <th>2</th>\n",
       "      <td>Ridge</td>\n",
       "      <td>0.999998</td>\n",
       "      <td>0.772745</td>\n",
       "      <td>0.227253</td>\n",
       "      <td>0.152164</td>\n",
       "      <td>0.051589</td>\n",
       "      <td>{'reg__alpha': 0.01}</td>\n",
       "      <td>False</td>\n",
       "    </tr>\n",
       "    <tr>\n",
       "      <th>1</th>\n",
       "      <td>Lasso</td>\n",
       "      <td>0.741175</td>\n",
       "      <td>0.714134</td>\n",
       "      <td>0.027041</td>\n",
       "      <td>0.173452</td>\n",
       "      <td>0.064894</td>\n",
       "      <td>{'reg__alpha': 0.01}</td>\n",
       "      <td>False</td>\n",
       "    </tr>\n",
       "    <tr>\n",
       "      <th>6</th>\n",
       "      <td>GradientBoostingRegressor</td>\n",
       "      <td>0.915757</td>\n",
       "      <td>0.714111</td>\n",
       "      <td>0.201646</td>\n",
       "      <td>0.173995</td>\n",
       "      <td>0.064899</td>\n",
       "      <td>{'reg__learning_rate': 0.1, 'reg__n_estimators...</td>\n",
       "      <td>False</td>\n",
       "    </tr>\n",
       "    <tr>\n",
       "      <th>5</th>\n",
       "      <td>RandomForestRegressor</td>\n",
       "      <td>0.969601</td>\n",
       "      <td>0.703095</td>\n",
       "      <td>0.266506</td>\n",
       "      <td>0.160161</td>\n",
       "      <td>0.067400</td>\n",
       "      <td>{'reg__max_depth': None, 'reg__n_estimators': ...</td>\n",
       "      <td>False</td>\n",
       "    </tr>\n",
       "    <tr>\n",
       "      <th>7</th>\n",
       "      <td>SVR</td>\n",
       "      <td>0.958980</td>\n",
       "      <td>0.619609</td>\n",
       "      <td>0.339371</td>\n",
       "      <td>0.179070</td>\n",
       "      <td>0.086352</td>\n",
       "      <td>{'reg__C': 1}</td>\n",
       "      <td>False</td>\n",
       "    </tr>\n",
       "    <tr>\n",
       "      <th>4</th>\n",
       "      <td>KNeighborsRegressor</td>\n",
       "      <td>0.806653</td>\n",
       "      <td>0.618988</td>\n",
       "      <td>0.187665</td>\n",
       "      <td>0.204286</td>\n",
       "      <td>0.086493</td>\n",
       "      <td>{'reg__n_neighbors': 5}</td>\n",
       "      <td>False</td>\n",
       "    </tr>\n",
       "    <tr>\n",
       "      <th>3</th>\n",
       "      <td>DecisionTreeRegressor</td>\n",
       "      <td>0.836546</td>\n",
       "      <td>0.558593</td>\n",
       "      <td>0.277952</td>\n",
       "      <td>0.224175</td>\n",
       "      <td>0.100203</td>\n",
       "      <td>{'reg__max_depth': 5}</td>\n",
       "      <td>False</td>\n",
       "    </tr>\n",
       "  </tbody>\n",
       "</table>\n",
       "</div>"
      ],
      "text/plain": [
       "                       Model  Train R2   Test R2  Overfit Gap       MAE  \\\n",
       "0           LinearRegression  1.000000  0.773055     0.226945  0.151961   \n",
       "2                      Ridge  0.999998  0.772745     0.227253  0.152164   \n",
       "1                      Lasso  0.741175  0.714134     0.027041  0.173452   \n",
       "6  GradientBoostingRegressor  0.915757  0.714111     0.201646  0.173995   \n",
       "5      RandomForestRegressor  0.969601  0.703095     0.266506  0.160161   \n",
       "7                        SVR  0.958980  0.619609     0.339371  0.179070   \n",
       "4        KNeighborsRegressor  0.806653  0.618988     0.187665  0.204286   \n",
       "3      DecisionTreeRegressor  0.836546  0.558593     0.277952  0.224175   \n",
       "\n",
       "        MSE                                        Best Params  Underfit  \n",
       "0  0.051518                                               None     False  \n",
       "2  0.051589                               {'reg__alpha': 0.01}     False  \n",
       "1  0.064894                               {'reg__alpha': 0.01}     False  \n",
       "6  0.064899  {'reg__learning_rate': 0.1, 'reg__n_estimators...     False  \n",
       "5  0.067400  {'reg__max_depth': None, 'reg__n_estimators': ...     False  \n",
       "7  0.086352                                      {'reg__C': 1}     False  \n",
       "4  0.086493                            {'reg__n_neighbors': 5}     False  \n",
       "3  0.100203                              {'reg__max_depth': 5}     False  "
      ]
     },
     "execution_count": 32,
     "metadata": {},
     "output_type": "execute_result"
    }
   ],
   "source": [
    "# Results DataFrame\n",
    "results_df = pd.DataFrame(results)\n",
    "results_df = results_df.sort_values(by='Test R2', ascending=False)\n",
    "results_df"
   ]
  },
  {
   "cell_type": "code",
   "execution_count": 33,
   "id": "e56e74bc",
   "metadata": {},
   "outputs": [
    {
     "data": {
      "application/vnd.microsoft.datawrangler.viewer.v0+json": {
       "columns": [
        {
         "name": "index",
         "rawType": "int64",
         "type": "integer"
        },
        {
         "name": "Model",
         "rawType": "object",
         "type": "string"
        },
        {
         "name": "Train R2",
         "rawType": "float64",
         "type": "float"
        },
        {
         "name": "Test R2",
         "rawType": "float64",
         "type": "float"
        },
        {
         "name": "Overfit Gap",
         "rawType": "float64",
         "type": "float"
        },
        {
         "name": "MAE",
         "rawType": "float64",
         "type": "float"
        },
        {
         "name": "MSE",
         "rawType": "float64",
         "type": "float"
        },
        {
         "name": "Best Params",
         "rawType": "object",
         "type": "unknown"
        },
        {
         "name": "Underfit",
         "rawType": "bool",
         "type": "boolean"
        }
       ],
       "ref": "bf53702e-d95d-45f6-997f-1f3256442dca",
       "rows": [
        [
         "1",
         "Lasso",
         "0.7411748893555596",
         "0.7141335902599459",
         "0.027041299095613702",
         "0.17345180959373344",
         "0.06489399949869899",
         "{'reg__alpha': 0.01}",
         "False"
        ]
       ],
       "shape": {
        "columns": 8,
        "rows": 1
       }
      },
      "text/html": [
       "<div>\n",
       "<style scoped>\n",
       "    .dataframe tbody tr th:only-of-type {\n",
       "        vertical-align: middle;\n",
       "    }\n",
       "\n",
       "    .dataframe tbody tr th {\n",
       "        vertical-align: top;\n",
       "    }\n",
       "\n",
       "    .dataframe thead th {\n",
       "        text-align: right;\n",
       "    }\n",
       "</style>\n",
       "<table border=\"1\" class=\"dataframe\">\n",
       "  <thead>\n",
       "    <tr style=\"text-align: right;\">\n",
       "      <th></th>\n",
       "      <th>Model</th>\n",
       "      <th>Train R2</th>\n",
       "      <th>Test R2</th>\n",
       "      <th>Overfit Gap</th>\n",
       "      <th>MAE</th>\n",
       "      <th>MSE</th>\n",
       "      <th>Best Params</th>\n",
       "      <th>Underfit</th>\n",
       "    </tr>\n",
       "  </thead>\n",
       "  <tbody>\n",
       "    <tr>\n",
       "      <th>1</th>\n",
       "      <td>Lasso</td>\n",
       "      <td>0.741175</td>\n",
       "      <td>0.714134</td>\n",
       "      <td>0.027041</td>\n",
       "      <td>0.173452</td>\n",
       "      <td>0.064894</td>\n",
       "      <td>{'reg__alpha': 0.01}</td>\n",
       "      <td>False</td>\n",
       "    </tr>\n",
       "  </tbody>\n",
       "</table>\n",
       "</div>"
      ],
      "text/plain": [
       "   Model  Train R2   Test R2  Overfit Gap       MAE       MSE  \\\n",
       "1  Lasso  0.741175  0.714134     0.027041  0.173452  0.064894   \n",
       "\n",
       "            Best Params  Underfit  \n",
       "1  {'reg__alpha': 0.01}     False  "
      ]
     },
     "execution_count": 33,
     "metadata": {},
     "output_type": "execute_result"
    }
   ],
   "source": [
    "# Filter models: Test R2 > 0.7, Overfit Gap < 0.1, not underfit\n",
    "filtered = results_df[(results_df['Test R2'] > 0.7) & (results_df['Overfit Gap'].abs() < 0.1) & (~results_df['Underfit'])]\n",
    "filtered"
   ]
  },
  {
   "cell_type": "markdown",
   "id": "fa2c4999",
   "metadata": {},
   "source": [
    "## Conclusion\n",
    "\n",
    "- The best model(s) are those with high test R² (>0.7), low overfit gap (<0.1), and not underfitting.\n",
    "- Review the `filtered` table above for your best candidates.\n",
    "- You can further analyze residuals or feature importances for the top model."
   ]
  }
 ],
 "metadata": {
  "kernelspec": {
   "display_name": "das",
   "language": "python",
   "name": "python3"
  },
  "language_info": {
   "codemirror_mode": {
    "name": "ipython",
    "version": 3
   },
   "file_extension": ".py",
   "mimetype": "text/x-python",
   "name": "python",
   "nbconvert_exporter": "python",
   "pygments_lexer": "ipython3",
   "version": "3.12.5"
  }
 },
 "nbformat": 4,
 "nbformat_minor": 5
}
